{
 "cells": [
  {
   "cell_type": "code",
   "execution_count": 38,
   "metadata": {},
   "outputs": [],
   "source": [
    "import sqlite3\n",
    "\n",
    "conn = sqlite3.connect(\"predictions.db\")\n",
    "cursor = conn.cursor()"
   ]
  },
  {
   "cell_type": "code",
   "execution_count": 44,
   "metadata": {},
   "outputs": [],
   "source": [
    "request = \"\"\"CREATE TABLE IF NOT EXISTS reponse_questionnaire (\n",
    "    id_reponse integer primary key,\n",
    "    reponse    text NOT NULL\n",
    "    );\n",
    "    \"\"\"\n",
    "cursor.execute(request)\n",
    "request = \"\"\"INSERT INTO reponse_questionnaire (reponse) VALUES (\"Besoin d'un traitement\");\n",
    "\"\"\"\n",
    "cursor.execute(request)\n",
    "\n",
    "request = \"\"\"INSERT INTO reponse_questionnaire (reponse) VALUES (\"Pas besoin d'un traitement\");\"\"\"\n",
    "cursor.execute(request)\n",
    "conn.commit()"
   ]
  },
  {
   "cell_type": "code",
   "execution_count": 45,
   "metadata": {},
   "outputs": [
    {
     "data": {
      "text/plain": [
       "<sqlite3.Cursor at 0x7fc3425a0040>"
      ]
     },
     "execution_count": 45,
     "metadata": {},
     "output_type": "execute_result"
    }
   ],
   "source": [
    "request = \"\"\"CREATE TABLE IF NOT EXISTS questionnaire (\n",
    "        id_questionnaire          integer  primary key,\n",
    "        Age                       integer NOT NULL ,\n",
    "        Gender                    text NOT NULL ,\n",
    "        self_employed             text NOT NULL ,\n",
    "        family_history            text NOT NULL ,\n",
    "        work_interfere            text NOT NULL ,\n",
    "        no_employees              text NOT NULL ,\n",
    "        remote_work               text NOT NULL ,\n",
    "        tech_company              text NOT NULL ,\n",
    "        benefits                  text NOT NULL ,\n",
    "        care_options              text NOT NULL ,\n",
    "        wellness_program          text NOT NULL ,\n",
    "        seek_help                 text NOT NULL ,\n",
    "        anonymity                 text NOT NULL ,\n",
    "        `leave`                   text NOT NULL ,\n",
    "        mental_health_consequence text NOT NULL ,\n",
    "        phys_health_consequence   text NOT NULL ,\n",
    "        coworkers                 text NOT NULL ,\n",
    "        supervisor                text NOT NULL ,\n",
    "        mental_health_interview   text NOT NULL ,\n",
    "        phys_health_interview     text NOT NULL ,\n",
    "        mental_vs_physical        text NOT NULL ,\n",
    "        obs_consequence           text NOT NULL ,\n",
    "        id_reponse                integer NOT NULL\n",
    "\t,FOREIGN KEY (id_reponse) REFERENCES reponse_questionnaire (id_reponse)\n",
    ");\"\"\"\n",
    "cursor.execute(request)"
   ]
  },
  {
   "cell_type": "code",
   "execution_count": 47,
   "metadata": {},
   "outputs": [],
   "source": [
    "dict_example = {\n",
    "    \"Age\" : 25,\n",
    "    \"Gender\" : \"Homme\",\n",
    "    \"self_employed\" : \"Oui\",\n",
    "    \"family_history\" : \"Oui\",\n",
    "    \"work_interfere\" : \"Souvent\",\n",
    "    \"no_employees\" : '1-5',\n",
    "    \"remote_work\" : \"Oui\",\n",
    "    \"tech_company\" : \"Oui\",\n",
    "    \"benefits\" : \"Oui\",\n",
    "    \"care_options\" : \"Oui\",\n",
    "    \"wellness_program\" : \"Oui\",\n",
    "    \"seek_help\" : \"Oui\",\n",
    "    \"anonymity\" : \"Oui\",\n",
    "    \"leave\" : \"Très facilement\",\n",
    "    \"mental_health_consequence\" : \"Oui\",\n",
    "    \"phys_health_consequence\" : \"Oui\",\n",
    "    \"coworkers\" : \"Oui\",\n",
    "    \"supervisor\" : \"Oui\",\n",
    "    \"mental_health_interview\" : \"Oui\",\n",
    "    \"phys_health_interview\" : \"Oui\",\n",
    "    \"mental_vs_physical\" : \"Oui\",\n",
    "    \"obs_consequence\" : \"Oui\",\n",
    "    \"id_reponse\" : 1\n",
    "}\n",
    "\n",
    "# request = \"\"\"INSERT INTO questionnaire ('Age', Gender, self_employed, family_history, work_interfere, no_employees, remote_work, tech_company, benefits, care_options, wellness_program, seek_help, anonymity, leave, mental_health_consequence, phys_health_consequence, coworkers, supervisor, mental_health_interview, phys_health_interview, mental_vs_physical, obs_consequence, id_reponse)\n",
    "# VALUES (25, 'Homme', 'Oui', 'Oui', 'Souvent', '1-5', 'Oui', 'Oui', 'Oui', 'Oui', 'Oui', 'Oui', 'Oui', 'Très facilement', 'Oui', 'Oui', 'Oui', 'Oui', 'Oui', 'Oui', 'Oui', 'Oui', 2)\"\"\"\n",
    "# cursor.execute(request)\n",
    "# conn.commit()"
   ]
  },
  {
   "cell_type": "code",
   "execution_count": 55,
   "metadata": {},
   "outputs": [
    {
     "data": {
      "text/plain": [
       "(25,\n",
       " 'Homme',\n",
       " 'Oui',\n",
       " 'Oui',\n",
       " 'Souvent',\n",
       " '1-5',\n",
       " 'Oui',\n",
       " 'Oui',\n",
       " 'Oui',\n",
       " 'Oui',\n",
       " 'Oui',\n",
       " 'Oui',\n",
       " 'Oui',\n",
       " 'Très facilement',\n",
       " 'Oui',\n",
       " 'Oui',\n",
       " 'Oui',\n",
       " 'Oui',\n",
       " 'Oui',\n",
       " 'Oui',\n",
       " 'Oui',\n",
       " 'Oui',\n",
       " 1)"
      ]
     },
     "execution_count": 55,
     "metadata": {},
     "output_type": "execute_result"
    }
   ],
   "source": [
    "tuple(dict_example.values())"
   ]
  },
  {
   "cell_type": "code",
   "execution_count": 54,
   "metadata": {},
   "outputs": [
    {
     "data": {
      "text/plain": [
       "('Age',\n",
       " 'Gender',\n",
       " 'self_employed',\n",
       " 'family_history',\n",
       " 'work_interfere',\n",
       " 'no_employees',\n",
       " 'remote_work',\n",
       " 'tech_company',\n",
       " 'benefits',\n",
       " 'care_options',\n",
       " 'wellness_program',\n",
       " 'seek_help',\n",
       " 'anonymity',\n",
       " 'leave',\n",
       " 'mental_health_consequence',\n",
       " 'phys_health_consequence',\n",
       " 'coworkers',\n",
       " 'supervisor',\n",
       " 'mental_health_interview',\n",
       " 'phys_health_interview',\n",
       " 'mental_vs_physical',\n",
       " 'obs_consequence',\n",
       " 'id_reponse')"
      ]
     },
     "execution_count": 54,
     "metadata": {},
     "output_type": "execute_result"
    }
   ],
   "source": [
    "tuple(dict_example.keys())"
   ]
  },
  {
   "cell_type": "code",
   "execution_count": 57,
   "metadata": {},
   "outputs": [],
   "source": [
    "# request = f\"\"\"DELETE FROM questionnaire\n",
    "# WHERE id_questionnaire = 3\"\"\"\n",
    "# cursor.execute(request)\n",
    "# conn.commit()"
   ]
  },
  {
   "cell_type": "code",
   "execution_count": 60,
   "metadata": {},
   "outputs": [
    {
     "ename": "ProgrammingError",
     "evalue": "Cannot operate on a closed database.",
     "output_type": "error",
     "traceback": [
      "\u001b[0;31m---------------------------------------------------------------------------\u001b[0m",
      "\u001b[0;31mProgrammingError\u001b[0m                          Traceback (most recent call last)",
      "Cell \u001b[0;32mIn[60], line 3\u001b[0m\n\u001b[1;32m      1\u001b[0m request \u001b[38;5;241m=\u001b[39m \u001b[38;5;124mf\u001b[39m\u001b[38;5;124m\"\"\"\u001b[39m\u001b[38;5;124mINSERT INTO questionnaire \u001b[39m\u001b[38;5;132;01m{\u001b[39;00m\u001b[38;5;28mtuple\u001b[39m(dict_example\u001b[38;5;241m.\u001b[39mkeys())\u001b[38;5;132;01m}\u001b[39;00m\n\u001b[1;32m      2\u001b[0m \u001b[38;5;124mVALUES \u001b[39m\u001b[38;5;132;01m{\u001b[39;00m\u001b[38;5;28mtuple\u001b[39m(dict_example\u001b[38;5;241m.\u001b[39mvalues())\u001b[38;5;132;01m}\u001b[39;00m\u001b[38;5;124m\"\"\"\u001b[39m\n\u001b[0;32m----> 3\u001b[0m \u001b[43mcursor\u001b[49m\u001b[38;5;241;43m.\u001b[39;49m\u001b[43mexecute\u001b[49m\u001b[43m(\u001b[49m\u001b[43mrequest\u001b[49m\u001b[43m)\u001b[49m\n\u001b[1;32m      4\u001b[0m conn\u001b[38;5;241m.\u001b[39mcommit()\n\u001b[1;32m      5\u001b[0m conn\u001b[38;5;241m.\u001b[39mclose()\n",
      "\u001b[0;31mProgrammingError\u001b[0m: Cannot operate on a closed database."
     ]
    }
   ],
   "source": [
    "\n",
    "conn = sqlite3.connect(\"predictions.db\")\n",
    "cursor = conn.cursor()\n",
    "request = f\"\"\"INSERT INTO questionnaire {tuple(dict_example.keys())}\n",
    "VALUES {tuple(dict_example.values())}\"\"\"\n",
    "cursor.execute(request)\n",
    "conn.commit()\n",
    "conn.close()"
   ]
  },
  {
   "cell_type": "code",
   "execution_count": 18,
   "metadata": {},
   "outputs": [
    {
     "data": {
      "text/plain": [
       "dict_values([25, 'Homme', 'Oui', 'Oui', 'Souvent', '1-5', 'Oui', 'Oui', 'Oui', 'Oui', 'Oui', 'Oui', 'Oui', 'Très facilement', 'Oui', 'Oui', 'Oui', 'Oui', 'Oui', 'Oui', 'Oui', 'Oui'])"
      ]
     },
     "execution_count": 18,
     "metadata": {},
     "output_type": "execute_result"
    }
   ],
   "source": [
    "dict_example.values()"
   ]
  }
 ],
 "metadata": {
  "kernelspec": {
   "display_name": "venv",
   "language": "python",
   "name": "python3"
  },
  "language_info": {
   "codemirror_mode": {
    "name": "ipython",
    "version": 3
   },
   "file_extension": ".py",
   "mimetype": "text/x-python",
   "name": "python",
   "nbconvert_exporter": "python",
   "pygments_lexer": "ipython3",
   "version": "3.11.2"
  }
 },
 "nbformat": 4,
 "nbformat_minor": 2
}
