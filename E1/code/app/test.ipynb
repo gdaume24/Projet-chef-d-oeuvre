{
 "cells": [
  {
   "cell_type": "code",
   "execution_count": 2,
   "metadata": {},
   "outputs": [
    {
     "name": "stdout",
     "output_type": "stream",
     "text": [
      "{'Age': 'Yes', 'Gender': 'No', 'self_employed': 'Ok'}\n"
     ]
    }
   ],
   "source": [
    "dict_pred = {\"Age\" : \"Oui\",\n",
    "\"Gender\" : \"Non\",\n",
    "\"self_employed\" : \"Ok\",\n",
    "}\n",
    "\n",
    "def translate(value):\n",
    "    if value==\"Homme\":\n",
    "        return \"Male\"\n",
    "    elif value==\"Femme\":\n",
    "        return \"Female\"\n",
    "    elif value==\"Autre\":\n",
    "        return \"Other\"\n",
    "    elif value==\"Oui\":\n",
    "        return \"Yes\"\n",
    "    elif value==\"Non\":\n",
    "        return \"No\"\n",
    "    elif value==\"Souvent\":\n",
    "        return \"Often\"\n",
    "    elif value==\"Parfois\":\n",
    "        return \"Sometimes\"\n",
    "    elif value==\"Rarement\":\n",
    "        return \"Rarely\"\n",
    "    elif value==\"Jamais\":\n",
    "        return \"Never\"\n",
    "    elif value==\"Non concerné\":\n",
    "        return \"Not concerned\"\n",
    "    elif value==\"Plus de 1000\":\n",
    "        return \"More than 1000\"\n",
    "    elif value==\"Je ne sais pas\":\n",
    "        return \"Don't know\"\n",
    "    elif value==\"Je ne suis pas sûr\":\n",
    "        return \"Not sure\"\n",
    "    elif value==\"Très facilement\":\n",
    "        return \"Very easy\"\n",
    "    elif value==\"Assez facilement\":\n",
    "        return \"Somewhat easy\"\n",
    "    elif value==\"Assez difficilement\":\n",
    "        return \"Somewhat difficult\"\n",
    "    elif value==\"Très difficilement\":\n",
    "        return \"Very difficult\"\n",
    "    elif value==\"Peut-être\":\n",
    "        return \"Maybe\"\n",
    "    elif value==\"Certains d'entre eux\":\n",
    "        return \"Some of them\"\n",
    "    else:\n",
    "        return value\n",
    "\n",
    "for key, value in dict_pred.items():\n",
    "    value = translate(value)\n",
    "    dict_pred[key] = value\n",
    "\n",
    "print(dict_pred)\n",
    "\n"
   ]
  },
  {
   "cell_type": "code",
   "execution_count": null,
   "metadata": {},
   "outputs": [],
   "source": []
  },
  {
   "cell_type": "code",
   "execution_count": null,
   "metadata": {},
   "outputs": [],
   "source": []
  },
  {
   "cell_type": "code",
   "execution_count": null,
   "metadata": {},
   "outputs": [],
   "source": []
  },
  {
   "cell_type": "code",
   "execution_count": null,
   "metadata": {},
   "outputs": [],
   "source": []
  },
  {
   "cell_type": "code",
   "execution_count": null,
   "metadata": {},
   "outputs": [],
   "source": []
  },
  {
   "cell_type": "code",
   "execution_count": null,
   "metadata": {},
   "outputs": [],
   "source": []
  }
 ],
 "metadata": {
  "kernelspec": {
   "display_name": "venv_app",
   "language": "python",
   "name": "python3"
  },
  "language_info": {
   "codemirror_mode": {
    "name": "ipython",
    "version": 3
   },
   "file_extension": ".py",
   "mimetype": "text/x-python",
   "name": "python",
   "nbconvert_exporter": "python",
   "pygments_lexer": "ipython3",
   "version": "3.11.2"
  }
 },
 "nbformat": 4,
 "nbformat_minor": 2
}
