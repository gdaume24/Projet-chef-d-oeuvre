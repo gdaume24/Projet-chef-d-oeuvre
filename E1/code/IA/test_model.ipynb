{
 "cells": [
  {
   "cell_type": "code",
   "execution_count": 1,
   "metadata": {},
   "outputs": [],
   "source": [
    "import sys\n",
    "import pandas as pd\n",
    "import pickle\n",
    "import os\n",
    "current_path = os.getcwd()\n",
    "model_path = os.path.dirname(current_path)\n",
    "model_path = os.path.join(model_path, \"app_deploiement\", \"pipeline_logisticregression0.83f1.pkl\")\n",
    "\n",
    "model = pickle.load(open(model_path, \"rb\"))\n",
    "\n",
    "input_data_dict = {\"Age\" : 35,\n",
    "\"Gender\" : \"Female\",\n",
    "\"self_employed\" : \"Other\",\n",
    "\"family_history\" : \"No\",\n",
    "\"work_interfere\" : \"Not concerned\",\n",
    "\"no_employees\" : \"More than 1000\",\n",
    "\"remote_work\" : \"Yes\", \n",
    "\"tech_company\" : \"Yes\",\n",
    "\"benefits\" : \"Yes\", \n",
    "\"care_options\" : \"Not sure\", \n",
    "\"wellness_program\" : \"No\", \n",
    "\"seek_help\" : \"Yes\",\n",
    "\"anonymity\" : \"Yes\", \n",
    "\"leave\" : \"Somewhat easy\", \n",
    "\"mental_health_consequence\" : \"No\",\n",
    "\"phys_health_consequence\" : \"No\", \n",
    "\"coworkers\" : \"Some of them\", \n",
    "\"supervisor\" : \"Yes\",\n",
    "\"mental_health_interview\" : \"No\", \n",
    "\"phys_health_interview\" : \"Maybe\",\n",
    "\"mental_vs_physical\" : \"Don't know\", \n",
    "\"obs_consequence\" : \"No\"}"
   ]
  },
  {
   "cell_type": "code",
   "execution_count": 2,
   "metadata": {},
   "outputs": [
    {
     "data": {
      "text/plain": [
       "'No'"
      ]
     },
     "execution_count": 2,
     "metadata": {},
     "output_type": "execute_result"
    }
   ],
   "source": [
    "input_df = pd.DataFrame(input_data_dict, index=[0])\n",
    "model.predict(input_df)[0]"
   ]
  },
  {
   "cell_type": "code",
   "execution_count": null,
   "metadata": {},
   "outputs": [],
   "source": []
  },
  {
   "cell_type": "code",
   "execution_count": null,
   "metadata": {},
   "outputs": [],
   "source": []
  },
  {
   "cell_type": "code",
   "execution_count": null,
   "metadata": {},
   "outputs": [],
   "source": []
  }
 ],
 "metadata": {
  "kernelspec": {
   "display_name": "venv",
   "language": "python",
   "name": "python3"
  },
  "language_info": {
   "codemirror_mode": {
    "name": "ipython",
    "version": 3
   },
   "file_extension": ".py",
   "mimetype": "text/x-python",
   "name": "python",
   "nbconvert_exporter": "python",
   "pygments_lexer": "ipython3",
   "version": "3.11.2"
  }
 },
 "nbformat": 4,
 "nbformat_minor": 2
}
